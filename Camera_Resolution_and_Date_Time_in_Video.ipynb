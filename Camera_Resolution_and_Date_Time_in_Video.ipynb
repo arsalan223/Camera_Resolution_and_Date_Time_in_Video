{
 "cells": [
  {
   "cell_type": "code",
   "execution_count": 1,
   "metadata": {},
   "outputs": [],
   "source": [
    "import cv2 as cv"
   ]
  },
  {
   "cell_type": "markdown",
   "metadata": {},
   "source": [
    "# Get high resolution from camera:\n",
    "### set desired frame-size (if available)"
   ]
  },
  {
   "cell_type": "code",
   "execution_count": 2,
   "metadata": {},
   "outputs": [
    {
     "name": "stdout",
     "output_type": "stream",
     "text": [
      "640.0\n",
      "480.0\n",
      "1280.0\n",
      "720.0\n"
     ]
    }
   ],
   "source": [
    "cap = cv.VideoCapture(0)\n",
    "print(cap.get(cv.CAP_PROP_FRAME_WIDTH)) #to check input frame width\n",
    "print(cap.get(cv.CAP_PROP_FRAME_HEIGHT))\n",
    "\n",
    "cap.set(cv.CAP_PROP_FRAME_WIDTH, 2000) #setting desired width, if available (otherwise nearest (ie:1080x720))\n",
    "cap.set(cv.CAP_PROP_FRAME_HEIGHT, 2000) #ratio (ie:1080x720) will adjust automaticly, no need to explicitly set ratio.\n",
    "#or\n",
    "# cap.set(3, 2000) # 3 is short-hand for cv.CAP_PROP_FRAME_WIDTH\n",
    "# cap.set(4, 2000) # 4 is short-hand for cv.CAP_PROP_FRAME_HEIGHT\n",
    "\n",
    "print(cap.get(cv.CAP_PROP_FRAME_WIDTH)) #to check updated frame width\n",
    "print(cap.get(cv.CAP_PROP_FRAME_HEIGHT))\n",
    "\n",
    "while True:\n",
    "    check, frame = cap.read()\n",
    "    cv.imshow('frame', frame)\n",
    "    if cv.waitKey(1) == ord('q'):\n",
    "        break\n",
    "\n",
    "cap.release()\n",
    "cv.destroyAllWindows()"
   ]
  },
  {
   "cell_type": "markdown",
   "metadata": {},
   "source": [
    "# Print Current Date & Time in Video:"
   ]
  },
  {
   "cell_type": "code",
   "execution_count": 18,
   "metadata": {},
   "outputs": [],
   "source": [
    "import datetime #to get date & time\n",
    "cap = cv.VideoCapture(0)\n",
    "\n",
    "while True:\n",
    "    check, frame = cap.read()\n",
    "    dateAndTime = str(datetime.datetime.now())[:19] #getting current time, till seconds(ie: [:19]=2020-04-05 14:55:13)\n",
    "    frame = cv.putText(frame, dateAndTime, (40, 460), cv.FONT_HERSHEY_SIMPLEX, 1, (0,255,0), 1) #arg1=img, arg2=string, arg3=bottom-left starting, arg4=font-style,arg5=font-size, arg6=color, arg7=thickness\n",
    "    \n",
    "    cv.imshow('frames', frame)\n",
    "    if cv.waitKey(1) == ord('q'):\n",
    "        break\n",
    "        \n",
    "cap.release()\n",
    "cv.destroyAllWindows()"
   ]
  },
  {
   "cell_type": "code",
   "execution_count": null,
   "metadata": {},
   "outputs": [],
   "source": []
  }
 ],
 "metadata": {
  "kernelspec": {
   "display_name": "Python 3",
   "language": "python",
   "name": "python3"
  },
  "language_info": {
   "codemirror_mode": {
    "name": "ipython",
    "version": 3
   },
   "file_extension": ".py",
   "mimetype": "text/x-python",
   "name": "python",
   "nbconvert_exporter": "python",
   "pygments_lexer": "ipython3",
   "version": "3.8.1"
  }
 },
 "nbformat": 4,
 "nbformat_minor": 4
}
